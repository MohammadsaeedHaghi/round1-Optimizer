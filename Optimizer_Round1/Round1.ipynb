{
  "nbformat": 4,
  "nbformat_minor": 0,
  "metadata": {
    "colab": {
      "name": "Round1.ipynb",
      "provenance": [],
      "collapsed_sections": []
    },
    "kernelspec": {
      "name": "python3",
      "display_name": "Python 3"
    },
    "language_info": {
      "name": "python"
    }
  },
  "cells": [
    {
      "cell_type": "code",
      "execution_count": null,
      "metadata": {
        "id": "ZcnrCmjY7wYZ"
      },
      "outputs": [],
      "source": [
        "import numpy as np\n",
        "with open(\"R13.txt\", \"r\") as f:\n",
        "  d, n, m, k, p = [int(x) for x in f.readline().split()]\n",
        "  ks = [int(x) for x in f.readline().split()]\n",
        "  data = [[float(x) for x in string.split()] for string in f.readlines()]\n",
        "  data = np.array(data)\n",
        "\n",
        "data.shape"
      ]
    },
    {
      "cell_type": "code",
      "source": [
        "from sklearn import preprocessing\n",
        "data_scaler = preprocessing.StandardScaler().fit_transform(data)"
      ],
      "metadata": {
        "id": "LMbNKkQS705w"
      },
      "execution_count": null,
      "outputs": []
    },
    {
      "cell_type": "code",
      "source": [
        "from sklearn.manifold import TSNE\n",
        "X_embedded = TSNE(n_components=2, learning_rate='auto',\n",
        "                   init='random').fit_transform(data_scaler)\n",
        "\n"
      ],
      "metadata": {
        "id": "vilI01Qx73Md"
      },
      "execution_count": null,
      "outputs": []
    },
    {
      "cell_type": "code",
      "source": [
        "import numpy as np\n",
        "from sklearn.decomposition import PCA\n",
        "pca = PCA(n_components=2)\n",
        "pca_embedded = pca.fit_transform(data)"
      ],
      "metadata": {
        "id": "I1ZNDrA4747q"
      },
      "execution_count": null,
      "outputs": []
    },
    {
      "cell_type": "code",
      "source": [
        "import matplotlib.pyplot as plt\n",
        "\n",
        "plt.scatter(X_embedded[:,0], X_embedded[:,1]);"
      ],
      "metadata": {
        "id": "yaf_UVyC796N"
      },
      "execution_count": null,
      "outputs": []
    },
    {
      "cell_type": "code",
      "source": [
        "plt.scatter(pca_embedded[:,0], pca_embedded[:,1]);"
      ],
      "metadata": {
        "id": "KSgN6_EM7_6f"
      },
      "execution_count": null,
      "outputs": []
    },
    {
      "cell_type": "code",
      "source": [
        "from sklearn.cluster import SpectralClustering\n",
        "\n",
        "clustering = SpectralClustering(n_clusters=m, n_neighbors = 10, affinity = 'nearest_neighbors', \n",
        "         assign_labels='kmeans',\n",
        "         random_state=0).fit(data)\n"
      ],
      "metadata": {
        "id": "HpyzHh7O8CP3"
      },
      "execution_count": null,
      "outputs": []
    },
    {
      "cell_type": "code",
      "source": [
        "plt.scatter(X_embedded[:,0], X_embedded[:,1], c = clustering.labels_);"
      ],
      "metadata": {
        "id": "GuZ-zNlh8E50"
      },
      "execution_count": null,
      "outputs": []
    },
    {
      "cell_type": "code",
      "source": [
        "plt.scatter(pca_embedded[:,0], pca_embedded[:,1], c = clustering.labels_);"
      ],
      "metadata": {
        "id": "aIG1Pp3_8FiF"
      },
      "execution_count": null,
      "outputs": []
    }
  ]
}